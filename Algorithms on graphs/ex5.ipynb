{
 "cells": [
  {
   "cell_type": "code",
   "execution_count": null,
   "metadata": {},
   "outputs": [],
   "source": [
    "#Initializing libraries\n",
    "import numpy as np\n",
    "import matplotlib\n",
    "import matplotlib.pyplot as plt\n",
    "import random as r\n",
    "import networkx as nx\n",
    "import scipy.sparse as sp\n",
    "from collections import defaultdict\n",
    "from tkinter import *"
   ]
  },
  {
   "cell_type": "code",
   "execution_count": null,
   "metadata": {},
   "outputs": [],
   "source": [
    "vert = 100\n",
    "edge = 200\n",
    "array=np.zeros([vert, vert])\n",
    "raspr=edge/(vert*vert)*2"
   ]
  },
  {
   "cell_type": "code",
   "execution_count": null,
   "metadata": {},
   "outputs": [],
   "source": [
    "#adjacency matrix creation\n",
    "while edge > 0:\n",
    "    for i in range(1, vert):\n",
    "        for j in range(i+1, vert):\n",
    "            r_raspr = r.random()\n",
    "            randedge=r.randint(0,1)\n",
    "            if (r_raspr <= raspr and edge > 0 and array[i,j] == 0):\n",
    "                array[i,j] = randedge\n",
    "                array[j,i] = randedge\n",
    "                edge = edge-randedge\n",
    "print (array)"
   ]
  },
  {
   "cell_type": "code",
   "execution_count": null,
   "metadata": {},
   "outputs": [],
   "source": [
    "#Converting an adjacency matrix to an adjacency list\n",
    "adjac = defaultdict(list)\n",
    "edges = set()\n",
    "for i, v in enumerate(array, 1):\n",
    "    for j, u in enumerate(v, 1):\n",
    "        if u != 0 and frozenset([i, j]) not in edges:\n",
    "            edges.add(frozenset([i, j]))\n",
    "            adjac[i].append(j)\n",
    "print (adjac)"
   ]
  },
  {
   "cell_type": "code",
   "execution_count": null,
   "metadata": {},
   "outputs": [],
   "source": [
    "#graph parameters initialization\n",
    "def get_matrix_triad(coo_matrix , data=False):\n",
    "\tif not sp.isspmatrix_coo(coo_matrix):\n",
    "\t\tcoo_matrix = sp.coo_matrix(coo_matrix)\n",
    "\ttemp = np.vstack((coo_matrix.row , coo_matrix.col , coo_matrix.data)).transpose()\n",
    "\treturn temp.tolist()\n",
    "edags = get_matrix_triad(array)"
   ]
  },
  {
   "cell_type": "code",
   "execution_count": null,
   "metadata": {},
   "outputs": [],
   "source": [
    "#graph initialization\n",
    "G = nx.Graph()\n",
    "H = nx.path_graph(array.shape[0])\n",
    "G.add_nodes_from(H)\n",
    "G.add_weighted_edges_from(edags)\n",
    "colors = np.arange(array.shape[0])"
   ]
  },
  {
   "cell_type": "code",
   "execution_count": null,
   "metadata": {},
   "outputs": [],
   "source": [
    "#DFS alghoritm\n",
    "visited = []\n",
    "def dfs(visited, graph, node):  #function for dfs \n",
    "    if node not in visited:\n",
    "        temp_nodes.append(node)\n",
    "        visited.append(node)\n",
    "        for neighbour in graph[node]:\n",
    "            dfs(visited, graph, neighbour)\n",
    "    return temp_nodes\n",
    "\n",
    "dfs_rez=[]\n",
    "for i in range(1, 101):\n",
    "    if i not in visited:\n",
    "        temp_nodes=[]\n",
    "        dfs_rez.append(dfs(visited, adjac, i))\n"
   ]
  },
  {
   "cell_type": "code",
   "execution_count": null,
   "metadata": {},
   "outputs": [],
   "source": [
    "#BFS algorithm + shortest way search algorithm\n",
    "def bfs_sp(graph, start, goal):\n",
    "    explored = []\n",
    "    queue = [[start]]\n",
    "    while queue:\n",
    "        path = queue.pop(0)\n",
    "        node = path[-1]\n",
    "        if node not in explored:\n",
    "            neighbours = graph[node]\n",
    "            for neighbour in neighbours:\n",
    "                new_path = list(path)\n",
    "                new_path.append(neighbour)\n",
    "                queue.append(new_path)\n",
    "                if neighbour == goal:\n",
    "                    return new_path\n",
    "            explored.append(node)\n",
    "    return \"doesn't exist\""
   ]
  },
  {
   "cell_type": "code",
   "execution_count": null,
   "metadata": {},
   "outputs": [],
   "source": [
    "#buttons functions\n",
    "def button1():\n",
    "    matplotlib.use('TkAgg')\n",
    "    plt.figure(figsize=(20,10))\n",
    "    fig = nx.draw(G,pos=nx.circular_layout(G),node_color=colors, node_size = 300, label='Generated graph')\n",
    "    canvas = matplotlib.backends.backend_tkagg.FigureCanvasTkAgg(fig, master=root)\n",
    "    plt.show()\n",
    "def button2():\n",
    "    print('Total number of unconnected components:', len(dfs_rez), '\\n', 'DFS result is:', dfs_rez)\n",
    "    # print('Total number of unconnected components:', len(all_components), '.')\n",
    "    # print('All components of the graph:\\n', all_components)\n",
    "    a = r.randint(1,100)\n",
    "    b = r.randint(1,100)\n",
    "    c = bfs_sp(adjac, a, b)\n",
    "    print('BFS result is: the path between ', a, ' and ', b, ': ', c)"
   ]
  },
  {
   "cell_type": "code",
   "execution_count": null,
   "metadata": {},
   "outputs": [],
   "source": [
    "#GUI\n",
    "root = Tk()\n",
    "root.title(\"Choose an excercise\")\n",
    "root.geometry(\"300x100\")\n",
    "\n",
    "#buttons\n",
    "btn1 = Button(text=\"I exercise. Graph generation\", background=\"#555\", foreground=\"#ccc\",\n",
    "            padx=\"20\", pady=\"8\", font=\"16\", command=button1)\n",
    "btn1.place(relx=.2, rely=.1, anchor=\"c\", height=30, width=130, bordermode=OUTSIDE)\n",
    "btn1.pack(fill=BOTH)\n",
    "btn2 = Button(text=\"II exercise. Shortest path search\", background=\"#555\", foreground=\"#ccc\",\n",
    "            padx=\"20\", pady=\"8\", font=\"16\", command=button2)\n",
    "btn2.place(relx=.2, rely=.2, anchor=\"c\", height=30, width=130, bordermode=OUTSIDE)\n",
    "btn2.pack(fill=BOTH)\n",
    "\n",
    "root.mainloop()"
   ]
  }
 ],
 "metadata": {
  "interpreter": {
   "hash": "42945817134121878c7cd0aa3e8441d4811e76c78f56d3a59be176ac2ac0f259"
  },
  "kernelspec": {
   "display_name": "Python 3.9.7 64-bit ('base': conda)",
   "name": "python3"
  },
  "language_info": {
   "codemirror_mode": {
    "name": "ipython",
    "version": 3
   },
   "file_extension": ".py",
   "mimetype": "text/x-python",
   "name": "python",
   "nbconvert_exporter": "python",
   "pygments_lexer": "ipython3",
   "version": "3.9.7"
  },
  "orig_nbformat": 4
 },
 "nbformat": 4,
 "nbformat_minor": 2
}

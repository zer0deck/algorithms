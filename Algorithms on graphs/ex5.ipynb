{
 "cells": [
  {
   "cell_type": "code",
   "execution_count": 1,
   "metadata": {},
   "outputs": [],
   "source": [
    "#Initializing libraries\n",
    "import numpy as np\n",
    "import matplotlib\n",
    "import matplotlib.pyplot as plt\n",
    "import random as r\n",
    "import networkx as nx\n",
    "import scipy.sparse as sp\n",
    "from collections import defaultdict\n",
    "from tkinter import *"
   ]
  },
  {
   "cell_type": "code",
   "execution_count": 2,
   "metadata": {},
   "outputs": [],
   "source": [
    "vert = 100\n",
    "edge = 200\n",
    "array=np.zeros([vert, vert])\n",
    "raspr=edge/(vert*vert)*2"
   ]
  },
  {
   "cell_type": "code",
   "execution_count": 3,
   "metadata": {},
   "outputs": [
    {
     "name": "stdout",
     "output_type": "stream",
     "text": [
      "[[0. 0. 0. ... 0. 0. 0.]\n",
      " [0. 0. 0. ... 0. 0. 0.]\n",
      " [0. 0. 0. ... 0. 0. 0.]\n",
      " ...\n",
      " [0. 0. 0. ... 0. 0. 0.]\n",
      " [0. 0. 0. ... 0. 0. 0.]\n",
      " [0. 0. 0. ... 0. 0. 0.]]\n"
     ]
    }
   ],
   "source": [
    "#adjacency matrix creation\n",
    "while edge > 0:\n",
    "    for i in range(1, vert):\n",
    "        for j in range(i+1, vert):\n",
    "            r_raspr = r.random()\n",
    "            randedge=r.randint(0,1)\n",
    "            if (r_raspr <= raspr and edge > 0 and array[i,j] == 0):\n",
    "                array[i,j] = randedge\n",
    "                array[j,i] = randedge\n",
    "                edge = edge-randedge\n",
    "print (array)"
   ]
  },
  {
   "cell_type": "code",
   "execution_count": 4,
   "metadata": {},
   "outputs": [
    {
     "name": "stdout",
     "output_type": "stream",
     "text": [
      "defaultdict(<class 'list'>, {2: [4, 20, 42, 45, 49, 54, 89, 95], 3: [19, 20, 25, 35, 86], 4: [6, 20, 27, 34, 54, 60, 69, 76], 5: [14, 29, 39, 54, 58, 92], 6: [49, 73, 89, 93, 100], 7: [16, 38, 55, 96], 8: [69, 84, 89, 92, 97], 9: [18, 62, 70, 91], 10: [56, 66, 95, 99], 11: [93], 12: [26, 60, 74], 13: [41], 15: [42, 50, 91], 16: [47], 17: [22, 47, 55, 59, 78], 18: [65, 81, 93], 19: [48, 69], 20: [55, 62], 21: [49, 56, 61, 79, 99], 22: [99], 23: [50, 62, 70, 94], 24: [25, 65], 25: [32, 54, 70], 27: [48, 65, 96], 28: [33, 52, 57], 29: [47, 61, 71], 30: [77, 86], 31: [38, 60], 32: [46, 47, 51, 52, 63], 33: [59, 68, 69, 88, 91], 34: [42, 59, 76, 79], 35: [42, 53, 80, 85], 36: [42, 67, 83], 37: [45, 72, 83], 38: [80, 84], 39: [74], 40: [59], 41: [67, 72, 74, 95], 42: [60, 72, 83], 43: [66], 44: [60, 71, 75, 97], 45: [51, 66], 46: [55], 47: [82, 90, 95], 49: [66, 85], 50: [67, 92], 51: [78, 82, 94, 97], 52: [79, 91], 53: [67], 54: [65, 71, 73, 76], 55: [66], 56: [86], 58: [63, 75], 59: [70, 76, 92], 60: [64], 61: [82], 62: [81, 82], 63: [69, 95, 97], 64: [70], 65: [72, 76, 85, 88, 94], 66: [92], 68: [70], 69: [94], 70: [74], 71: [97, 99], 74: [89, 100], 75: [94], 79: [80, 81], 81: [82, 84, 87], 83: [86, 97], 84: [91, 94], 85: [90], 88: [93], 92: [96]})\n"
     ]
    }
   ],
   "source": [
    "#Converting an adjacency matrix to an adjacency list\n",
    "adjac = defaultdict(list)\n",
    "edges = set()\n",
    "for i, v in enumerate(array, 1):\n",
    "    for j, u in enumerate(v, 1):\n",
    "        if u != 0 and frozenset([i, j]) not in edges:\n",
    "            edges.add(frozenset([i, j]))\n",
    "            adjac[i].append(j)\n",
    "print (adjac)"
   ]
  },
  {
   "cell_type": "code",
   "execution_count": 5,
   "metadata": {},
   "outputs": [],
   "source": [
    "#graph parameters initialization\n",
    "def get_matrix_triad(coo_matrix , data=False):\n",
    "\tif not sp.isspmatrix_coo(coo_matrix):\n",
    "\t\tcoo_matrix = sp.coo_matrix(coo_matrix)\n",
    "\ttemp = np.vstack((coo_matrix.row , coo_matrix.col , coo_matrix.data)).transpose()\n",
    "\treturn temp.tolist()\n",
    "edags = get_matrix_triad(array)"
   ]
  },
  {
   "cell_type": "code",
   "execution_count": 6,
   "metadata": {},
   "outputs": [],
   "source": [
    "#graph initialization\n",
    "G = nx.Graph()\n",
    "H = nx.path_graph(array.shape[0])\n",
    "G.add_nodes_from(H)\n",
    "G.add_weighted_edges_from(edags)\n",
    "colors = np.arange(array.shape[0])"
   ]
  },
  {
   "cell_type": "code",
   "execution_count": 7,
   "metadata": {},
   "outputs": [],
   "source": [
    "#DFS alghoritm\n",
    "visited1 = set()\n",
    "list = []\n",
    "def dfs(visited1, graph, node):\n",
    "    if node not in visited1:\n",
    "        list.append(node)\n",
    "        visited1.add(node)\n",
    "        for neighbour in graph[node]:\n",
    "            dfs(visited1, graph, neighbour)"
   ]
  },
  {
   "cell_type": "code",
   "execution_count": 8,
   "metadata": {},
   "outputs": [],
   "source": [
    "#BFS algorithm + shortest way search algorithm\n",
    "visited2 = []\n",
    "queue = [] \n",
    "list2 = []\n",
    "i = 0\n",
    "j = 0\n",
    "def bfs(visited2, graph, node, final):\n",
    "    #node is the start position, final is the finall position\n",
    "    visited2.append(node)\n",
    "    queue.append(node)\n",
    "    k = 0\n",
    "    m = 0\n",
    "    while queue and m != final:\n",
    "        global i, j\n",
    "        #in result \"j-i\" counts the number of BFS layers\n",
    "        i += k\n",
    "        j += 1\n",
    "        k = 0\n",
    "        m = queue.pop(0) \n",
    "        list2.append(m)\n",
    "        for neighbour in graph[m]:\n",
    "            if neighbour not in visited2:\n",
    "                visited2.append(neighbour)\n",
    "                queue.append(neighbour)\n",
    "                #k counts if there is neighbours \n",
    "                k = 1"
   ]
  },
  {
   "cell_type": "code",
   "execution_count": 9,
   "metadata": {},
   "outputs": [],
   "source": [
    "#buttons functions\n",
    "def button1():\n",
    "    matplotlib.use('TkAgg')\n",
    "    plt.figure(figsize=(20,10))\n",
    "    fig = nx.draw(G,pos=nx.circular_layout(G),node_color=colors, node_size = 300, label='Generated graph')\n",
    "    canvas = matplotlib.backends.backend_tkagg.FigureCanvasTkAgg(fig, master=root)\n",
    "    plt.show()\n",
    "def button2():\n",
    "    b=r.randint(1,100)\n",
    "    dfs(visited1, adjac, b)\n",
    "    print('DFS result: ' + str(list))\n",
    "    c=r.randint(1,len(list))\n",
    "    d=list[c]\n",
    "    bfs(visited2, adjac, b, d) \n",
    "    print('The way from '+ str(b) + ' to ' + str(d))\n",
    "    print('BFS result: '+ str(list2))\n",
    "    print('The number of interations during the shortest way: ' + str(j-i))"
   ]
  },
  {
   "cell_type": "code",
   "execution_count": 11,
   "metadata": {},
   "outputs": [
    {
     "name": "stdout",
     "output_type": "stream",
     "text": [
      "DFS result: [44, 60, 64, 70, 74, 89, 100, 71, 97, 99, 75, 94, 84, 91]\n",
      "The way from 84 to 75\n",
      "BFS result: [44, 60, 71, 75, 97, 64, 99, 94, 70, 74, 89, 100, 84, 91]\n",
      "The number of interations during the shortest way: 7\n"
     ]
    }
   ],
   "source": [
    "#GUI\n",
    "root = Tk()\n",
    "root.title(\"Choose an excercise\")\n",
    "root.geometry(\"300x100\")\n",
    "\n",
    "#buttons\n",
    "btn1 = Button(text=\"I exercise. Graph generation\", background=\"#555\", foreground=\"#ccc\",\n",
    "            padx=\"20\", pady=\"8\", font=\"16\", command=button1)\n",
    "btn1.place(relx=.2, rely=.1, anchor=\"c\", height=30, width=130, bordermode=OUTSIDE)\n",
    "btn1.pack(fill=BOTH)\n",
    "btn2 = Button(text=\"II exercise. Shortest path search\", background=\"#555\", foreground=\"#ccc\",\n",
    "            padx=\"20\", pady=\"8\", font=\"16\", command=button2)\n",
    "btn2.place(relx=.2, rely=.2, anchor=\"c\", height=30, width=130, bordermode=OUTSIDE)\n",
    "btn2.pack(fill=BOTH)\n",
    "\n",
    "root.mainloop()"
   ]
  }
 ],
 "metadata": {
  "interpreter": {
   "hash": "42945817134121878c7cd0aa3e8441d4811e76c78f56d3a59be176ac2ac0f259"
  },
  "kernelspec": {
   "display_name": "Python 3.9.7 64-bit ('base': conda)",
   "name": "python3"
  },
  "language_info": {
   "codemirror_mode": {
    "name": "ipython",
    "version": 3
   },
   "file_extension": ".py",
   "mimetype": "text/x-python",
   "name": "python",
   "nbconvert_exporter": "python",
   "pygments_lexer": "ipython3",
   "version": "3.9.7"
  },
  "orig_nbformat": 4
 },
 "nbformat": 4,
 "nbformat_minor": 2
}

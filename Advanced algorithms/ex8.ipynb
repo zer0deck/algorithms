{
 "cells": [
  {
   "cell_type": "code",
   "execution_count": null,
   "metadata": {},
   "outputs": [],
   "source": [
    "#libs itialization\n",
    "import numpy as np\n",
    "import matplotlib.pyplot as plt\n",
    "from tkinter import *"
   ]
  },
  {
   "cell_type": "code",
   "execution_count": 1,
   "metadata": {},
   "outputs": [
    {
     "name": "stdout",
     "output_type": "stream",
     "text": [
      "{'t': 52, 'h': 25, 'e': 87, 'r': 50, 'a': 42, 'm': 23, 'n': 42, 'y': 10, 'v': 6, 'i': 43, 'o': 49, 's': 40, 'f': 16, 'p': 10, 'g': 12, 'l': 22, 'u': 21, 'b': 9, 'j': 3, 'd': 22, 'c': 14, 'w': 7, 'k': 4, 'x': 1}\n"
     ]
    }
   ],
   "source": [
    "#Алгоритм Хаффмана\n",
    "# Подготовить таблицу вероятностей каждого символа\n",
    "text = r'123.txt'\n",
    "def findTheCharFrequency(text):\n",
    "    result = dict()\n",
    "    with open(text,'r') as f:\n",
    "        for line in f.readlines():\n",
    "            line = line.lower()\n",
    "            for i in line:\n",
    "                if i.isalpha():     # Определить, является ли символ английской буквой\n",
    "                    if i in result:\n",
    "                        result[i] += 1\n",
    "                    else:\n",
    "                        result.update({i:1})\n",
    "    return result\n",
    "print(findTheCharFrequency(text))"
   ]
  },
  {
   "cell_type": "code",
   "execution_count": 2,
   "metadata": {},
   "outputs": [],
   "source": [
    "# Создать класс узла\n",
    "class Node(object):\n",
    "    def __init__(self, name=None, value=None):\n",
    "        self.name = name\n",
    "        self.value = value\n",
    "        self.lchild = None\n",
    "        self.rchild = None"
   ]
  },
  {
   "cell_type": "code",
   "execution_count": 3,
   "metadata": {},
   "outputs": [
    {
     "name": "stdout",
     "output_type": "stream",
     "text": [
      "rКодировка Хаффмана is:000\n",
      "\n",
      "tКодировка Хаффмана is:001\n",
      "\n",
      "cКодировка Хаффмана is:01000\n",
      "\n",
      "fКодировка Хаффмана is:01001\n",
      "\n",
      "xКодировка Хаффмана is:01010000\n",
      "\n",
      "jКодировка Хаффмана is:01010001\n",
      "\n",
      "kКодировка Хаффмана is:0101001\n",
      "\n",
      "bКодировка Хаффмана is:010101\n",
      "\n",
      "pКодировка Хаффмана is:010110\n",
      "\n",
      "yКодировка Хаффмана is:010111\n",
      "\n",
      "sКодировка Хаффмана is:0110\n",
      "\n",
      "nКодировка Хаффмана is:0111\n",
      "\n",
      "aКодировка Хаффмана is:1000\n",
      "\n",
      "uКодировка Хаффмана is:10010\n",
      "\n",
      "dКодировка Хаффмана is:10011\n",
      "\n",
      "eКодировка Хаффмана is:101\n",
      "\n",
      "iКодировка Хаффмана is:1100\n",
      "\n",
      "lКодировка Хаффмана is:11010\n",
      "\n",
      "mКодировка Хаффмана is:11011\n",
      "\n",
      "oКодировка Хаффмана is:1110\n",
      "\n",
      "gКодировка Хаффмана is:111100\n",
      "\n",
      "vКодировка Хаффмана is:1111010\n",
      "\n",
      "wКодировка Хаффмана is:1111011\n",
      "\n",
      "hКодировка Хаффмана is:11111\n",
      "\n"
     ]
    }
   ],
   "source": [
    "# Создать дерево Хаффмана\n",
    "class HuffmanTree(object):\n",
    "    # По идее дерева Хаффмана: на основе узла построить дерево Хаффмана в обратном порядке\n",
    "    def __init__(self, char_Weights):\n",
    "        self.Leaf = [Node(k,v) for k, v in char_Weights.items()]\n",
    "        while len(self.Leaf) != 1:\n",
    "            self.Leaf.sort(key=lambda node:node.value, reverse=True)\n",
    "            n = Node(value=(self.Leaf[-1].value + self.Leaf[-2].value))\n",
    "            n.lchild = self.Leaf.pop(-1)\n",
    "            n.rchild = self.Leaf.pop(-1)\n",
    "            self.Leaf.append(n)\n",
    "        self.root = self.Leaf[0]\n",
    "        self.Buffer = list(range(10))\n",
    "\n",
    "    # Создавать коды с рекурсивным мышлением\n",
    "    def Hu_generate(self, tree, length):\n",
    "        node = tree\n",
    "        if (not node):\n",
    "            return\n",
    "        elif node.name:\n",
    "            print(node.name + 'Кодировка Хаффмана is:', end='')\n",
    "            for i in range(length):\n",
    "                print(self.Buffer[i], end='')\n",
    "            print('\\n')\n",
    "            return\n",
    "        self.Buffer[length] = 0\n",
    "        self.Hu_generate(node.lchild, length + 1)\n",
    "        self.Buffer[length] = 1\n",
    "        self.Hu_generate(node.rchild, length + 1)\n",
    "\n",
    "    #Output кодировка Хаффмана\n",
    "    def get_code(self):\n",
    "        self.Hu_generate(self.root, 0)\n",
    "\n",
    "if __name__=='__main__':\n",
    "    text = r'123.txt'\n",
    "    result = findTheCharFrequency(text)\n",
    "    #print(result)\n",
    "    tree = HuffmanTree(result)\n",
    "    tree.get_code()"
   ]
  }
 ],
 "metadata": {
  "interpreter": {
   "hash": "42945817134121878c7cd0aa3e8441d4811e76c78f56d3a59be176ac2ac0f259"
  },
  "kernelspec": {
   "display_name": "Python 3.9.7 64-bit ('base': conda)",
   "language": "python",
   "name": "python3"
  },
  "language_info": {
   "codemirror_mode": {
    "name": "ipython",
    "version": 3
   },
   "file_extension": ".py",
   "mimetype": "text/x-python",
   "name": "python",
   "nbconvert_exporter": "python",
   "pygments_lexer": "ipython3",
   "version": "3.9.7"
  },
  "orig_nbformat": 4
 },
 "nbformat": 4,
 "nbformat_minor": 2
}

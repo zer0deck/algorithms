{
 "cells": [
  {
   "cell_type": "code",
   "execution_count": 1,
   "metadata": {},
   "outputs": [],
   "source": [
    "#libs itialization\n",
    "import numpy as np\n",
    "import matplotlib.pyplot as plt\n",
    "from tkinter import *\n",
    "from prettytable import PrettyTable"
   ]
  },
  {
   "cell_type": "code",
   "execution_count": 2,
   "metadata": {},
   "outputs": [],
   "source": [
    "Hu_code = {}\n",
    "Hu_name = []\n",
    "Hu_value = []"
   ]
  },
  {
   "cell_type": "code",
   "execution_count": 3,
   "metadata": {},
   "outputs": [],
   "source": [
    "#Algorithm which searches the frequency of each english letter in the file\n",
    "def findTheCharFrequency(text):\n",
    "    freq = dict()\n",
    "    with open(text,'r') as f:\n",
    "        for line in f.readlines():\n",
    "            line = line.lower()\n",
    "            for i in line:\n",
    "                if i.isalpha():\n",
    "                    if i in freq:\n",
    "                        freq[i] += 1\n",
    "                    else:\n",
    "                        freq.update({i:1})\n",
    "    return freq\n",
    "# sorted(l_frequency.items(), key=lambda item: item[1])"
   ]
  },
  {
   "cell_type": "code",
   "execution_count": 4,
   "metadata": {},
   "outputs": [
    {
     "name": "stdout",
     "output_type": "stream",
     "text": [
      "+----+----+----+----+-----+----+----+---+-----+---+----+----+----+----+----+----+----+-----+-----+-----+----+---+---+\n",
      "| a  | b  | c  | d  |  e  | f  | g  | h |  i  | k | l  | m  | n  | o  | p  | q  | r  |  s  |  t  |  u  | v  | w | y |\n",
      "+----+----+----+----+-----+----+----+---+-----+---+----+----+----+----+----+----+----+-----+-----+-----+----+---+---+\n",
      "| 98 | 11 | 52 | 49 | 147 | 12 | 19 | 8 | 141 | 1 | 83 | 56 | 66 | 57 | 33 | 19 | 67 | 108 | 101 | 110 | 34 | 3 | 1 |\n",
      "+----+----+----+----+-----+----+----+---+-----+---+----+----+----+----+----+----+----+-----+-----+-----+----+---+---+\n"
     ]
    }
   ],
   "source": [
    "#Printing first algorithm result as a table of letter frequency\n",
    "text = r'123.txt'\n",
    "l_frequency = findTheCharFrequency(text)\n",
    "th = []\n",
    "td = []\n",
    "for key, value in sorted(l_frequency.items()):\n",
    "    th.append(key)\n",
    "    td.append(value)\n",
    "columns = len(th)\n",
    "table = PrettyTable(th)\n",
    "while td:\n",
    "    table.add_row(td[:columns])\n",
    "    td = th[columns:]\n",
    "print(table)"
   ]
  },
  {
   "cell_type": "code",
   "execution_count": 5,
   "metadata": {},
   "outputs": [
    {
     "name": "stdout",
     "output_type": "stream",
     "text": [
      "+---+---+---+---+----+----+----+----+----+----+----+----+----+----+----+----+----+----+-----+-----+-----+-----+-----+\n",
      "| k | y | w | h | b  | f  | q  | g  | p  | v  | d  | c  | m  | o  | n  | r  | l  | a  |  t  |  s  |  u  |  i  |  e  |\n",
      "+---+---+---+---+----+----+----+----+----+----+----+----+----+----+----+----+----+----+-----+-----+-----+-----+-----+\n",
      "| 1 | 1 | 3 | 8 | 11 | 12 | 19 | 19 | 33 | 34 | 49 | 52 | 56 | 57 | 66 | 67 | 83 | 98 | 101 | 108 | 110 | 141 | 147 |\n",
      "+---+---+---+---+----+----+----+----+----+----+----+----+----+----+----+----+----+----+-----+-----+-----+-----+-----+\n"
     ]
    }
   ],
   "source": [
    "#Printing first algorithm result as a table of letter frequency\n",
    "text = r'123.txt'\n",
    "l_frequency = findTheCharFrequency(text)\n",
    "th = []\n",
    "td = []\n",
    "for key, value in sorted(l_frequency.items(), key=lambda item: item[1]):\n",
    "    th.append(key)\n",
    "    td.append(value)\n",
    "columns = len(th)\n",
    "table = PrettyTable(th)\n",
    "while td:\n",
    "    table.add_row(td[:columns])\n",
    "    td = th[columns:]\n",
    "print(table)"
   ]
  },
  {
   "cell_type": "code",
   "execution_count": 6,
   "metadata": {},
   "outputs": [],
   "source": [
    "# Создать класс узла\n",
    "class Node(object):\n",
    "    def __init__(self, name=None, value=None):\n",
    "        self.name = name\n",
    "        self.value = value\n",
    "        self.lchild = None\n",
    "        self.rchild = None"
   ]
  },
  {
   "cell_type": "code",
   "execution_count": 7,
   "metadata": {},
   "outputs": [
    {
     "name": "stdout",
     "output_type": "stream",
     "text": [
      "+-----------+-----------+----------+---------+---------+---------+--------+--------+-------+-------+-------+-------+------+------+------+------+------+------+------+------+------+-----+-----+\n",
      "|     k     |     y     |    w     |    h    |    b    |    f    |   q    |   g    |   p   |   v   |   d   |   c   |  m   |  o   |  n   |  r   |  l   |  a   |  t   |  s   |  u   |  i  |  e  |\n",
      "+-----------+-----------+----------+---------+---------+---------+--------+--------+-------+-------+-------+-------+------+------+------+------+------+------+------+------+------+-----+-----+\n",
      "|     1     |     1     |    3     |    8    |    11   |    12   |   19   |   19   |   33  |   34  |   49  |   52  |  56  |  57  |  66  |  67  |  83  |  98  | 101  | 108  | 110  | 141 | 147 |\n",
      "| 001000001 | 001000000 | 00100001 | 0010001 | 0111110 | 0111111 | 011110 | 001001 | 00101 | 01110 | 11000 | 11001 | 0000 | 0001 | 0011 | 0110 | 1010 | 1011 | 1101 | 1110 | 1111 | 010 | 100 |\n",
      "+-----------+-----------+----------+---------+---------+---------+--------+--------+-------+-------+-------+-------+------+------+------+------+------+------+------+------+------+-----+-----+\n"
     ]
    }
   ],
   "source": [
    "# Huffman tree creation\n",
    "class HuffmanTree(object):\n",
    "    # Based on node we built the tree in reverse algorithm\n",
    "    def __init__(self, char_Weights):\n",
    "        self.Leaf = [Node(k,v) for k, v in char_Weights.items()]\n",
    "        while len(self.Leaf) != 1:\n",
    "            self.Leaf.sort(key=lambda node:node.value, reverse=True)\n",
    "            n = Node(value=(self.Leaf[-1].value + self.Leaf[-2].value))\n",
    "            n.lchild = self.Leaf.pop(-1)\n",
    "            n.rchild = self.Leaf.pop(-1)\n",
    "            self.Leaf.append(n)\n",
    "        self.root = self.Leaf[0]\n",
    "        self.Buffer = list(range(10))\n",
    "\n",
    "    def Hu_generate(self, tree, length):\n",
    "        node = tree\n",
    "        if (not node):\n",
    "            return\n",
    "        elif node.name:\n",
    "            n = node.name\n",
    "            b = str()\n",
    "            for i in range(length):\n",
    "                b += str(self.Buffer[i])\n",
    "            Hu_code[n] = b\n",
    "            Hu_name.append(n)\n",
    "            Hu_value.append(b)\n",
    "            return\n",
    "        self.Buffer[length] = 0\n",
    "        self.Hu_generate(node.lchild, length + 1)\n",
    "        self.Buffer[length] = 1\n",
    "        self.Hu_generate(node.rchild, length + 1)\n",
    "\n",
    "    #Output part\n",
    "    def get_code(self):\n",
    "        self.Hu_generate(self.root, 0)\n",
    "    \n",
    "\n",
    "#Printing full algorithm result\n",
    "tree = HuffmanTree(l_frequency)\n",
    "tree.get_code()\n",
    "fh = []\n",
    "fd = []\n",
    "#the reason of duplication of function is that this is another sorting algorithm \n",
    "for key, value in sorted(l_frequency.items(), key=lambda item: item[1]): #sorted(l_frequency.items()): - previous one\n",
    "    fh.append(key)\n",
    "    fd.append(value)\n",
    "\n",
    "for i in range (0, len(fh)):\n",
    "    for j in range (0, len(fh)):\n",
    "        if Hu_name[j] == fh[i]:\n",
    "            fd[i] = [fd[i], Hu_value[j]]\n",
    "columns = len(fh)\n",
    "Hu_table = PrettyTable()\n",
    "for i in range(0, len(fh)):\n",
    "    Hu_table.add_column(fh[i], fd[i])\n",
    "print(Hu_table)\n",
    "\n",
    "\n",
    "# print(fd)\n",
    "# print(l_frequency)\n",
    "# print(Hu_code)\n",
    "\n"
   ]
  }
 ],
 "metadata": {
  "interpreter": {
   "hash": "42945817134121878c7cd0aa3e8441d4811e76c78f56d3a59be176ac2ac0f259"
  },
  "kernelspec": {
   "display_name": "Python 3.9.7 64-bit ('base': conda)",
   "language": "python",
   "name": "python3"
  },
  "language_info": {
   "codemirror_mode": {
    "name": "ipython",
    "version": 3
   },
   "file_extension": ".py",
   "mimetype": "text/x-python",
   "name": "python",
   "nbconvert_exporter": "python",
   "pygments_lexer": "ipython3",
   "version": "3.9.7"
  },
  "orig_nbformat": 4
 },
 "nbformat": 4,
 "nbformat_minor": 2
}

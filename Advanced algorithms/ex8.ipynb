{
 "cells": [
  {
   "cell_type": "code",
   "execution_count": 1,
   "metadata": {},
   "outputs": [],
   "source": [
    "#libs itialization\n",
    "import numpy as np\n",
    "import matplotlib.pyplot as plt\n",
    "from tkinter import *\n",
    "import string\n",
    "import random as r\n",
    "from prettytable import PrettyTable"
   ]
  },
  {
   "cell_type": "code",
   "execution_count": 2,
   "metadata": {},
   "outputs": [],
   "source": [
    "Hu_code = {}\n",
    "Sl_code = {}\n",
    "Hu_name = []\n",
    "Hu_value = []\n",
    "th = []\n",
    "td = []\n",
    "fh = []\n",
    "fd = []"
   ]
  },
  {
   "cell_type": "code",
   "execution_count": 3,
   "metadata": {},
   "outputs": [],
   "source": [
    "def weighted_random(weights):\n",
    "    number = r.random() * sum(weights.values())\n",
    "    for k,v in weights.items():\n",
    "        if number < v:\n",
    "            break\n",
    "        number -= v\n",
    "    return k\n",
    "\n",
    "# the following values can be any non-negative numbers, no need of sum=100\n",
    "prob_dict = {\n",
    "    'a':\t8.2,\n",
    "    'b':\t1.5,\n",
    "    'c':\t2.8,\n",
    "    'd':\t4.3,\n",
    "    'e':\t13.,\n",
    "    'f':\t2.2,\n",
    "    'g':\t2.,\n",
    "    'h':\t6.1,\n",
    "    'i':\t7.,\n",
    "    'j':\t0.15,\n",
    "    'k':\t0.77,\n",
    "    'l':\t4.,\n",
    "    'm':\t2.4,\n",
    "    'n':\t6.7,\n",
    "    'o':\t7.5,\n",
    "    'p':\t1.9,\n",
    "    'q':\t0.095,\n",
    "    'r':\t6.,\n",
    "    's':\t6.3,\n",
    "    't':\t9.1,\n",
    "    'u':\t2.8,\n",
    "    'v':\t0.98,\n",
    "    'w':\t2.4,\n",
    "    'x':\t0.15,\n",
    "    'y':\t2.,\n",
    "    'z':\t0.074\n",
    "    }"
   ]
  },
  {
   "cell_type": "code",
   "execution_count": 4,
   "metadata": {},
   "outputs": [],
   "source": [
    "#simple random text generator using lowecase ascii letters\n",
    "f = open('weightedRtext.txt', 'w')\n",
    "o = open('nonweightedRtext.txt', 'w')\n",
    "for i in range (0, 1000):\n",
    "    o.write(r.choice(str(string.ascii_letters)[:-26]))\n",
    "    f.write(weighted_random(prob_dict))\n",
    "f.close()\n",
    "o.close()\n",
    "text = r'weightedRtext.txt'"
   ]
  },
  {
   "cell_type": "code",
   "execution_count": 5,
   "metadata": {},
   "outputs": [],
   "source": [
    "#Algorithm which searches the frequency of each english letter in the file\n",
    "def findTheCharFrequency(text):\n",
    "    freq = dict()\n",
    "    with open(text,'r') as f:\n",
    "        for line in f.readlines():\n",
    "            line = line.lower()\n",
    "            for i in line:\n",
    "                if i.isalpha():\n",
    "                    if i in freq:\n",
    "                        freq[i] += 1\n",
    "                    else:\n",
    "                        freq.update({i:1})\n",
    "    return freq\n",
    "# sorted(l_frequency.items(), key=lambda item: item[1])"
   ]
  },
  {
   "cell_type": "code",
   "execution_count": 6,
   "metadata": {},
   "outputs": [
    {
     "name": "stdout",
     "output_type": "stream",
     "text": [
      "+----+---+----+----+-----+----+----+----+----+---+---+----+----+----+----+----+---+----+----+----+----+----+----+---+----+\n",
      "| a  | b | c  | d  |  e  | f  | g  | h  | i  | j | k | l  | m  | n  | o  | p  | q | r  | s  | t  | u  | v  | w  | x | y  |\n",
      "+----+---+----+----+-----+----+----+----+----+---+---+----+----+----+----+----+---+----+----+----+----+----+----+---+----+\n",
      "| 99 | 8 | 30 | 42 | 119 | 18 | 15 | 64 | 68 | 1 | 9 | 39 | 30 | 49 | 80 | 25 | 1 | 62 | 71 | 89 | 29 | 14 | 21 | 1 | 16 |\n",
      "+----+---+----+----+-----+----+----+----+----+---+---+----+----+----+----+----+---+----+----+----+----+----+----+---+----+\n"
     ]
    }
   ],
   "source": [
    "#Printing first algorithm result as a table of letter frequency\n",
    "l_frequency = findTheCharFrequency(text)\n",
    "for key, value in sorted(l_frequency.items()):\n",
    "    th.append(key)\n",
    "    td.append(value)\n",
    "columns = len(th)\n",
    "f_table = PrettyTable(th)\n",
    "while td:\n",
    "    f_table.add_row(td[:columns])\n",
    "    td = th[columns:]\n",
    "print(f_table)"
   ]
  },
  {
   "cell_type": "code",
   "execution_count": 7,
   "metadata": {},
   "outputs": [],
   "source": [
    "# Создать класс узла\n",
    "class Node(object):\n",
    "    def __init__(self, name=None, value=None):\n",
    "        self.name = name\n",
    "        self.value = value\n",
    "        self.lchild = None\n",
    "        self.rchild = None"
   ]
  },
  {
   "cell_type": "code",
   "execution_count": 8,
   "metadata": {},
   "outputs": [
    {
     "name": "stdout",
     "output_type": "stream",
     "text": [
      "+-----------+------------+------------+----------+---------+--------+--------+--------+--------+--------+-------+-------+-------+-------+-------+------+------+------+------+------+------+------+------+-----+-----+\n",
      "|     q     |     x      |     j      |    b     |    k    |   v    |   g    |   y    |   f    |   w    |   p   |   u   |   m   |   c   |   l   |  d   |  n   |  r   |  h   |  i   |  s   |  o   |  t   |  a  |  e  |\n",
      "+-----------+------------+------------+----------+---------+--------+--------+--------+--------+--------+-------+-------+-------+-------+-------+------+------+------+------+------+------+------+------+-----+-----+\n",
      "|     1     |     1      |     1      |    8     |    9    |   14   |   15   |   16   |   18   |   21   |   25  |   29  |   30  |   30  |   39  |  42  |  49  |  62  |  64  |  68  |  71  |  80  |  89  |  99 | 119 |\n",
      "| 110110100 | 1101101011 | 1101101010 | 11011011 | 1101100 | 010010 | 010011 | 100110 | 100111 | 110111 | 01000 | 01010 | 10010 | 01011 | 11010 | 0000 | 0001 | 1000 | 1010 | 1011 | 1100 | 1110 | 1111 | 001 | 011 |\n",
      "+-----------+------------+------------+----------+---------+--------+--------+--------+--------+--------+-------+-------+-------+-------+-------+------+------+------+------+------+------+------+------+-----+-----+\n"
     ]
    }
   ],
   "source": [
    "# Huffman tree creation\n",
    "class HuffmanTree(object):\n",
    "    # Based on node we built the tree in reverse algorithm\n",
    "    def __init__(self, char_Weights):\n",
    "        self.Leaf = [Node(k,v) for k, v in char_Weights.items()]\n",
    "        while len(self.Leaf) != 1:\n",
    "            self.Leaf.sort(key=lambda node:node.value, reverse=True)\n",
    "            n = Node(value=(self.Leaf[-1].value + self.Leaf[-2].value))\n",
    "            n.lchild = self.Leaf.pop(-1)\n",
    "            n.rchild = self.Leaf.pop(-1)\n",
    "            self.Leaf.append(n)\n",
    "        self.root = self.Leaf[0]\n",
    "        self.Buffer = list(range(10))\n",
    "\n",
    "    def Hu_generate(self, tree, length):\n",
    "        node = tree\n",
    "        if (not node):\n",
    "            return\n",
    "        elif node.name:\n",
    "            n = node.name\n",
    "            b = str()\n",
    "            for i in range(length):\n",
    "                b += str(self.Buffer[i])\n",
    "            Hu_code[n] = b\n",
    "            Hu_name.append(n)\n",
    "            Hu_value.append(b)\n",
    "            return\n",
    "        self.Buffer[length] = 0\n",
    "        self.Hu_generate(node.lchild, length + 1)\n",
    "        self.Buffer[length] = 1\n",
    "        self.Hu_generate(node.rchild, length + 1)\n",
    "\n",
    "    #Output part\n",
    "    def get_code(self):\n",
    "        self.Hu_generate(self.root, 0)\n",
    "    \n",
    "\n",
    "#Printing full algorithm result\n",
    "tree = HuffmanTree(l_frequency)\n",
    "tree.get_code()\n",
    "#the reason of duplication of function is that this is another sorting algorithm \n",
    "for key, value in sorted(l_frequency.items(), key=lambda item: item[1]): #sorted(l_frequency.items()): - previous one\n",
    "    fh.append(key)\n",
    "    fd.append(value)\n",
    "\n",
    "for i in range (0, len(fh)):\n",
    "    for j in range (0, len(fh)):\n",
    "        if Hu_name[j] == fh[i]:\n",
    "            fd[i] = [fd[i], Hu_value[j]]\n",
    "columns = len(fh)\n",
    "Hu_table = PrettyTable()\n",
    "for i in range(0, len(fh)):\n",
    "    Hu_table.add_column(fh[i], fd[i])\n",
    "print(Hu_table)\n",
    "\n",
    "# print(fd)\n",
    "# print(l_frequency)\n",
    "# print(Hu_code)\n",
    "\n"
   ]
  },
  {
   "cell_type": "code",
   "execution_count": 9,
   "metadata": {},
   "outputs": [
    {
     "name": "stdout",
     "output_type": "stream",
     "text": [
      "{'a': '00001', 'b': '00010', 'c': '00011', 'd': '00100', 'e': '00101', 'f': '00110', 'g': '00111', 'h': '01000', 'i': '01001', 'j': '01010', 'k': '01011', 'l': '01100', 'm': '01101', 'n': '01110', 'o': '01111', 'p': '10000', 'q': '10001', 'r': '10010', 's': '10011', 't': '10100', 'u': '10101', 'v': '10110', 'w': '10111', 'x': '11000', 'y': '11001'}\n"
     ]
    }
   ],
   "source": [
    "#Simular length binary letters dictionary creation\n",
    "zer0 = '00000'\n",
    "for i in range (0, len(th)):\n",
    "    Sl_code[th[i]] = zer0[:-(len(bin(i+1))-2)] + bin(i+1)[2:]\n",
    "print(Sl_code)\n"
   ]
  },
  {
   "cell_type": "code",
   "execution_count": 10,
   "metadata": {},
   "outputs": [
    {
     "name": "stdout",
     "output_type": "stream",
     "text": [
      "4179\n",
      "5000\n"
     ]
    }
   ],
   "source": [
    "#here are functions for encryption with Huffman algorithm dictionary and with simular length dictionary\n",
    "def HuEncryptWord(word):\n",
    "    return ''.join([Hu_code[x] for x in word])\n",
    "def SlEncryptWord(word):\n",
    "    return ''.join([Sl_code[x] for x in word])\n",
    "\n",
    "f = open('weightedRtext.txt')\n",
    "for word in f.read().split():\n",
    "    print( len(HuEncryptWord(word)) )\n",
    "    print( len(SlEncryptWord(word)) )\n",
    "f.close()\n"
   ]
  }
 ],
 "metadata": {
  "interpreter": {
   "hash": "42945817134121878c7cd0aa3e8441d4811e76c78f56d3a59be176ac2ac0f259"
  },
  "kernelspec": {
   "display_name": "Python 3.9.7 64-bit ('base': conda)",
   "language": "python",
   "name": "python3"
  },
  "language_info": {
   "codemirror_mode": {
    "name": "ipython",
    "version": 3
   },
   "file_extension": ".py",
   "mimetype": "text/x-python",
   "name": "python",
   "nbconvert_exporter": "python",
   "pygments_lexer": "ipython3",
   "version": "3.9.7"
  },
  "orig_nbformat": 4
 },
 "nbformat": 4,
 "nbformat_minor": 2
}

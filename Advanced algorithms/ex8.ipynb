{
 "cells": [
  {
   "cell_type": "code",
   "execution_count": null,
   "metadata": {},
   "outputs": [],
   "source": [
    "#libs itialization\n",
    "import numpy as np\n",
    "import matplotlib.pyplot as plt\n",
    "from tkinter import *"
   ]
  },
  {
   "cell_type": "code",
   "execution_count": null,
   "metadata": {},
   "outputs": [],
   "source": [
    "#Алгоритм Хаффмана\n",
    "# Подготовить таблицу вероятностей каждого символа\n",
    "def findTheCharFrequency(text):\n",
    "    result = dict()\n",
    "    with open(text,'r') as f:\n",
    "        for line in f.readlines():\n",
    "            line = line.lower()\n",
    "            for i in line:\n",
    "                if i.isalpha():     # Определить, является ли символ английской буквой\n",
    "                    if i in result:\n",
    "                        result[i] += 1\n",
    "                    else:\n",
    "                        result.update({i:1})\n",
    "    return result\n",
    "\n",
    "# Создать класс узла\n",
    "class Node(object):\n",
    "    def __init__(self, name=None, value=None):\n",
    "        self.name = name\n",
    "        self.value = value\n",
    "        self.lchild = None\n",
    "        self.rchild = None\n",
    "\n",
    "# Создать дерево Хаффмана\n",
    "class HuffmanTree(object):\n",
    "    # По идее дерева Хаффмана: на основе узла построить дерево Хаффмана в обратном порядке\n",
    "    def __init__(self, char_Weights):\n",
    "        self.Leaf = [Node(k,v) for k, v in char_Weights.items()]\n",
    "        while len(self.Leaf) != 1:\n",
    "            self.Leaf.sort(key=lambda node:node.value, reverse=True)\n",
    "            n = Node(value=(self.Leaf[-1].value + self.Leaf[-2].value))\n",
    "            n.lchild = self.Leaf.pop(-1)\n",
    "            n.rchild = self.Leaf.pop(-1)\n",
    "            self.Leaf.append(n)\n",
    "        self.root = self.Leaf[0]\n",
    "        self.Buffer = list(range(10))\n",
    "\n",
    "    # Создавать коды с рекурсивным мышлением\n",
    "    def Hu_generate(self, tree, length):\n",
    "        node = tree\n",
    "        if (not node):\n",
    "            return\n",
    "        elif node.name:\n",
    "            print(node.name + 'Кодировка Хаффмана is:', end='')\n",
    "            for i in range(length):\n",
    "                print(self.Buffer[i], end='')\n",
    "            print('\\n')\n",
    "            return\n",
    "        self.Buffer[length] = 0\n",
    "        self.Hu_generate(node.lchild, length + 1)\n",
    "        self.Buffer[length] = 1\n",
    "        self.Hu_generate(node.rchild, length + 1)\n",
    "\n",
    "    #Output кодировка Хаффмана\n",
    "    def get_code(self):\n",
    "        self.Hu_generate(self.root, 0)\n",
    "\n",
    "if __name__=='__main__':\n",
    "    text = r'123.txt'\n",
    "    result = findTheCharFrequency(text)\n",
    "    #print(result)\n",
    "    tree = HuffmanTree(result)\n",
    "    tree.get_code()"
   ]
  }
 ],
 "metadata": {
  "interpreter": {
   "hash": "42945817134121878c7cd0aa3e8441d4811e76c78f56d3a59be176ac2ac0f259"
  },
  "kernelspec": {
   "display_name": "Python 3.9.7 64-bit ('base': conda)",
   "language": "python",
   "name": "python3"
  },
  "language_info": {
   "name": "python",
   "version": "3.9.7"
  },
  "orig_nbformat": 4
 },
 "nbformat": 4,
 "nbformat_minor": 2
}
